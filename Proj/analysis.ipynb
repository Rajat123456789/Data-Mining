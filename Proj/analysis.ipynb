{
 "cells": [
  {
   "cell_type": "code",
   "execution_count": 2,
   "metadata": {},
   "outputs": [],
   "source": [
    "import pandas as pd\n",
    "import numpy as np"
   ]
  },
  {
   "cell_type": "code",
   "execution_count": 3,
   "metadata": {},
   "outputs": [],
   "source": [
    "pd.set_option('display.max_columns', None)\n",
    "pd.set_option('display.max_rows', None)\n"
   ]
  },
  {
   "cell_type": "code",
   "execution_count": 4,
   "metadata": {},
   "outputs": [],
   "source": [
    "df = pd.read_csv('job_data.csv')"
   ]
  },
  {
   "cell_type": "code",
   "execution_count": 5,
   "metadata": {},
   "outputs": [
    {
     "data": {
      "text/plain": [
       "(19901, 8)"
      ]
     },
     "execution_count": 5,
     "metadata": {},
     "output_type": "execute_result"
    }
   ],
   "source": [
    "df.shape"
   ]
  },
  {
   "cell_type": "code",
   "execution_count": 6,
   "metadata": {},
   "outputs": [
    {
     "data": {
      "text/html": [
       "<div>\n",
       "<style scoped>\n",
       "    .dataframe tbody tr th:only-of-type {\n",
       "        vertical-align: middle;\n",
       "    }\n",
       "\n",
       "    .dataframe tbody tr th {\n",
       "        vertical-align: top;\n",
       "    }\n",
       "\n",
       "    .dataframe thead th {\n",
       "        text-align: right;\n",
       "    }\n",
       "</style>\n",
       "<table border=\"1\" class=\"dataframe\">\n",
       "  <thead>\n",
       "    <tr style=\"text-align: right;\">\n",
       "      <th></th>\n",
       "      <th>Company Name</th>\n",
       "      <th>Number of Jobs</th>\n",
       "      <th>Location</th>\n",
       "      <th>Job Title</th>\n",
       "      <th>Job Type</th>\n",
       "      <th>Job URL</th>\n",
       "      <th>Experience Level</th>\n",
       "      <th>Date</th>\n",
       "    </tr>\n",
       "  </thead>\n",
       "  <tbody>\n",
       "    <tr>\n",
       "      <th>0</th>\n",
       "      <td>Arcadia</td>\n",
       "      <td>3.0</td>\n",
       "      <td>[[37.09024, -95.712891]]</td>\n",
       "      <td>NaN</td>\n",
       "      <td>NaN</td>\n",
       "      <td>NaN</td>\n",
       "      <td>NaN</td>\n",
       "      <td>NaN</td>\n",
       "    </tr>\n",
       "    <tr>\n",
       "      <th>1</th>\n",
       "      <td>NaN</td>\n",
       "      <td>NaN</td>\n",
       "      <td>NaN</td>\n",
       "      <td>Senior Manager - Enterprise Commercial Operations</td>\n",
       "      <td>Full-Time</td>\n",
       "      <td>https://boards.greenhouse.io/arcadiacareers/jo...</td>\n",
       "      <td>Senior</td>\n",
       "      <td>1.707783e+09</td>\n",
       "    </tr>\n",
       "    <tr>\n",
       "      <th>2</th>\n",
       "      <td>NaN</td>\n",
       "      <td>NaN</td>\n",
       "      <td>NaN</td>\n",
       "      <td>Senior Product Manager - Energy Analytics</td>\n",
       "      <td>Full-Time</td>\n",
       "      <td>https://boards.greenhouse.io/arcadiacareers/jo...</td>\n",
       "      <td>Senior</td>\n",
       "      <td>1.707783e+09</td>\n",
       "    </tr>\n",
       "    <tr>\n",
       "      <th>3</th>\n",
       "      <td>NaN</td>\n",
       "      <td>NaN</td>\n",
       "      <td>NaN</td>\n",
       "      <td>Associate – Business Success</td>\n",
       "      <td>Full-Time</td>\n",
       "      <td>https://boards.greenhouse.io/arcadiacareers/jo...</td>\n",
       "      <td>Junior, Mid Level, Senior</td>\n",
       "      <td>1.707783e+09</td>\n",
       "    </tr>\n",
       "    <tr>\n",
       "      <th>4</th>\n",
       "      <td>Archive</td>\n",
       "      <td>1.0</td>\n",
       "      <td>[[37.09024, -95.712891]]</td>\n",
       "      <td>NaN</td>\n",
       "      <td>NaN</td>\n",
       "      <td>NaN</td>\n",
       "      <td>NaN</td>\n",
       "      <td>NaN</td>\n",
       "    </tr>\n",
       "  </tbody>\n",
       "</table>\n",
       "</div>"
      ],
      "text/plain": [
       "  Company Name  Number of Jobs                  Location  \\\n",
       "0      Arcadia             3.0  [[37.09024, -95.712891]]   \n",
       "1          NaN             NaN                       NaN   \n",
       "2          NaN             NaN                       NaN   \n",
       "3          NaN             NaN                       NaN   \n",
       "4      Archive             1.0  [[37.09024, -95.712891]]   \n",
       "\n",
       "                                           Job Title   Job Type  \\\n",
       "0                                                NaN        NaN   \n",
       "1  Senior Manager - Enterprise Commercial Operations  Full-Time   \n",
       "2          Senior Product Manager - Energy Analytics  Full-Time   \n",
       "3                       Associate – Business Success  Full-Time   \n",
       "4                                                NaN        NaN   \n",
       "\n",
       "                                             Job URL  \\\n",
       "0                                                NaN   \n",
       "1  https://boards.greenhouse.io/arcadiacareers/jo...   \n",
       "2  https://boards.greenhouse.io/arcadiacareers/jo...   \n",
       "3  https://boards.greenhouse.io/arcadiacareers/jo...   \n",
       "4                                                NaN   \n",
       "\n",
       "            Experience Level          Date  \n",
       "0                        NaN           NaN  \n",
       "1                     Senior  1.707783e+09  \n",
       "2                     Senior  1.707783e+09  \n",
       "3  Junior, Mid Level, Senior  1.707783e+09  \n",
       "4                        NaN           NaN  "
      ]
     },
     "execution_count": 6,
     "metadata": {},
     "output_type": "execute_result"
    }
   ],
   "source": [
    "df.head()"
   ]
  },
  {
   "cell_type": "code",
   "execution_count": 7,
   "metadata": {},
   "outputs": [],
   "source": [
    "df['Location'].head()\n",
    "\n",
    "for i in df['Location']:\n",
    "    if i == '-':\n",
    "        df['Location'].replace(i, 'Remote', inplace=True)\n",
    "\n",
    "\n",
    "    "
   ]
  },
  {
   "cell_type": "code",
   "execution_count": 8,
   "metadata": {},
   "outputs": [
    {
     "data": {
      "text/plain": [
       "0                   NaT\n",
       "1   2024-02-13 00:16:01\n",
       "2   2024-02-13 00:16:01\n",
       "3   2024-02-13 00:16:01\n",
       "4                   NaT\n",
       "Name: Date, dtype: datetime64[ns]"
      ]
     },
     "execution_count": 8,
     "metadata": {},
     "output_type": "execute_result"
    }
   ],
   "source": [
    "df['Date'].head()\n",
    "\n",
    "for i in df['Date']:\n",
    "    if i != None:\n",
    "        #unix to date\n",
    "        df['Date'] = pd.to_datetime(df['Date'], unit='s')\n",
    "    else:\n",
    "        pass\n",
    "\n",
    "\n",
    "df['Date'].head()"
   ]
  },
  {
   "cell_type": "code",
   "execution_count": 9,
   "metadata": {},
   "outputs": [
    {
     "data": {
      "text/html": [
       "<div>\n",
       "<style scoped>\n",
       "    .dataframe tbody tr th:only-of-type {\n",
       "        vertical-align: middle;\n",
       "    }\n",
       "\n",
       "    .dataframe tbody tr th {\n",
       "        vertical-align: top;\n",
       "    }\n",
       "\n",
       "    .dataframe thead th {\n",
       "        text-align: right;\n",
       "    }\n",
       "</style>\n",
       "<table border=\"1\" class=\"dataframe\">\n",
       "  <thead>\n",
       "    <tr style=\"text-align: right;\">\n",
       "      <th></th>\n",
       "      <th>Company Name</th>\n",
       "      <th>Number of Jobs</th>\n",
       "      <th>Location</th>\n",
       "      <th>Job Title</th>\n",
       "      <th>Job Type</th>\n",
       "      <th>Job URL</th>\n",
       "      <th>Experience Level</th>\n",
       "      <th>Date</th>\n",
       "    </tr>\n",
       "  </thead>\n",
       "  <tbody>\n",
       "    <tr>\n",
       "      <th>0</th>\n",
       "      <td>Arcadia</td>\n",
       "      <td>3.0</td>\n",
       "      <td>[[37.09024, -95.712891]]</td>\n",
       "      <td>NaN</td>\n",
       "      <td>NaN</td>\n",
       "      <td>NaN</td>\n",
       "      <td>NaN</td>\n",
       "      <td>NaT</td>\n",
       "    </tr>\n",
       "    <tr>\n",
       "      <th>1</th>\n",
       "      <td>NaN</td>\n",
       "      <td>NaN</td>\n",
       "      <td>NaN</td>\n",
       "      <td>Senior Manager - Enterprise Commercial Operations</td>\n",
       "      <td>Full-Time</td>\n",
       "      <td>https://boards.greenhouse.io/arcadiacareers/jo...</td>\n",
       "      <td>Senior</td>\n",
       "      <td>2024-02-13 00:16:01</td>\n",
       "    </tr>\n",
       "    <tr>\n",
       "      <th>2</th>\n",
       "      <td>NaN</td>\n",
       "      <td>NaN</td>\n",
       "      <td>NaN</td>\n",
       "      <td>Senior Product Manager - Energy Analytics</td>\n",
       "      <td>Full-Time</td>\n",
       "      <td>https://boards.greenhouse.io/arcadiacareers/jo...</td>\n",
       "      <td>Senior</td>\n",
       "      <td>2024-02-13 00:16:01</td>\n",
       "    </tr>\n",
       "    <tr>\n",
       "      <th>3</th>\n",
       "      <td>NaN</td>\n",
       "      <td>NaN</td>\n",
       "      <td>NaN</td>\n",
       "      <td>Associate – Business Success</td>\n",
       "      <td>Full-Time</td>\n",
       "      <td>https://boards.greenhouse.io/arcadiacareers/jo...</td>\n",
       "      <td>Junior, Mid Level, Senior</td>\n",
       "      <td>2024-02-13 00:16:01</td>\n",
       "    </tr>\n",
       "    <tr>\n",
       "      <th>4</th>\n",
       "      <td>Archive</td>\n",
       "      <td>1.0</td>\n",
       "      <td>[[37.09024, -95.712891]]</td>\n",
       "      <td>NaN</td>\n",
       "      <td>NaN</td>\n",
       "      <td>NaN</td>\n",
       "      <td>NaN</td>\n",
       "      <td>NaT</td>\n",
       "    </tr>\n",
       "  </tbody>\n",
       "</table>\n",
       "</div>"
      ],
      "text/plain": [
       "  Company Name  Number of Jobs                  Location  \\\n",
       "0      Arcadia             3.0  [[37.09024, -95.712891]]   \n",
       "1          NaN             NaN                       NaN   \n",
       "2          NaN             NaN                       NaN   \n",
       "3          NaN             NaN                       NaN   \n",
       "4      Archive             1.0  [[37.09024, -95.712891]]   \n",
       "\n",
       "                                           Job Title   Job Type  \\\n",
       "0                                                NaN        NaN   \n",
       "1  Senior Manager - Enterprise Commercial Operations  Full-Time   \n",
       "2          Senior Product Manager - Energy Analytics  Full-Time   \n",
       "3                       Associate – Business Success  Full-Time   \n",
       "4                                                NaN        NaN   \n",
       "\n",
       "                                             Job URL  \\\n",
       "0                                                NaN   \n",
       "1  https://boards.greenhouse.io/arcadiacareers/jo...   \n",
       "2  https://boards.greenhouse.io/arcadiacareers/jo...   \n",
       "3  https://boards.greenhouse.io/arcadiacareers/jo...   \n",
       "4                                                NaN   \n",
       "\n",
       "            Experience Level                Date  \n",
       "0                        NaN                 NaT  \n",
       "1                     Senior 2024-02-13 00:16:01  \n",
       "2                     Senior 2024-02-13 00:16:01  \n",
       "3  Junior, Mid Level, Senior 2024-02-13 00:16:01  \n",
       "4                        NaN                 NaT  "
      ]
     },
     "execution_count": 9,
     "metadata": {},
     "output_type": "execute_result"
    }
   ],
   "source": [
    "df.head()"
   ]
  },
  {
   "cell_type": "code",
   "execution_count": 10,
   "metadata": {},
   "outputs": [
    {
     "data": {
      "text/plain": [
       "18811.0"
      ]
     },
     "execution_count": 10,
     "metadata": {},
     "output_type": "execute_result"
    }
   ],
   "source": [
    "df['Number of Jobs'].sum()"
   ]
  },
  {
   "cell_type": "code",
   "execution_count": 11,
   "metadata": {},
   "outputs": [],
   "source": [
    "x = df['Experience Level']"
   ]
  },
  {
   "cell_type": "code",
   "execution_count": 12,
   "metadata": {},
   "outputs": [
    {
     "data": {
      "text/plain": [
       "Experience Level\n",
       "Senior                                             6633\n",
       "Senior, Expert or higher                           3281\n",
       "Junior, Mid Level, Senior                          1732\n",
       "Internship                                         1397\n",
       "Junior                                             1392\n",
       "Mid Level, Senior                                  1085\n",
       "Mid Level                                          1070\n",
       "Junior, Mid Level                                  1057\n",
       "-                                                   430\n",
       "Expert or higher                                    318\n",
       "Mid Level, Senior, Expert or higher                 119\n",
       "Entry Level/New Grad                                113\n",
       "Entry Level/New Grad, Junior, Mid Level              88\n",
       "Entry Level/New Grad, Junior                         80\n",
       "Junior, Mid Level, Senior, Expert or higher          29\n",
       "Entry Level/New Grad, Junior, Mid Level, Senior      14\n",
       "Name: count, dtype: int64"
      ]
     },
     "execution_count": 12,
     "metadata": {},
     "output_type": "execute_result"
    }
   ],
   "source": [
    "x.value_counts()"
   ]
  },
  {
   "cell_type": "code",
   "execution_count": 13,
   "metadata": {},
   "outputs": [
    {
     "data": {
      "text/html": [
       "<div>\n",
       "<style scoped>\n",
       "    .dataframe tbody tr th:only-of-type {\n",
       "        vertical-align: middle;\n",
       "    }\n",
       "\n",
       "    .dataframe tbody tr th {\n",
       "        vertical-align: top;\n",
       "    }\n",
       "\n",
       "    .dataframe thead th {\n",
       "        text-align: right;\n",
       "    }\n",
       "</style>\n",
       "<table border=\"1\" class=\"dataframe\">\n",
       "  <thead>\n",
       "    <tr style=\"text-align: right;\">\n",
       "      <th></th>\n",
       "      <th>Company Name</th>\n",
       "      <th>Number of Jobs</th>\n",
       "      <th>Location</th>\n",
       "      <th>Job Title</th>\n",
       "      <th>Job Type</th>\n",
       "      <th>Job URL</th>\n",
       "      <th>Experience Level</th>\n",
       "      <th>Date</th>\n",
       "    </tr>\n",
       "  </thead>\n",
       "  <tbody>\n",
       "    <tr>\n",
       "      <th>13</th>\n",
       "      <td>NaN</td>\n",
       "      <td>NaN</td>\n",
       "      <td>NaN</td>\n",
       "      <td>Summer Engineering Intern</td>\n",
       "      <td>Internship</td>\n",
       "      <td>https://arena-club.breezy.hr/p/a4a2673d2812/apply</td>\n",
       "      <td>Internship</td>\n",
       "      <td>2023-10-30 15:22:29</td>\n",
       "    </tr>\n",
       "    <tr>\n",
       "      <th>371</th>\n",
       "      <td>NaN</td>\n",
       "      <td>NaN</td>\n",
       "      <td>NaN</td>\n",
       "      <td>Electrical Engineer Intern</td>\n",
       "      <td>Internship</td>\n",
       "      <td>https://boards.greenhouse.io/aurorainnovation/...</td>\n",
       "      <td>Internship</td>\n",
       "      <td>2024-03-08 00:18:38</td>\n",
       "    </tr>\n",
       "    <tr>\n",
       "      <th>374</th>\n",
       "      <td>NaN</td>\n",
       "      <td>NaN</td>\n",
       "      <td>NaN</td>\n",
       "      <td>Hardware Systems Engineering Intern</td>\n",
       "      <td>Internship</td>\n",
       "      <td>https://boards.greenhouse.io/aurorainnovation/...</td>\n",
       "      <td>Internship</td>\n",
       "      <td>2024-03-08 00:18:38</td>\n",
       "    </tr>\n",
       "    <tr>\n",
       "      <th>378</th>\n",
       "      <td>NaN</td>\n",
       "      <td>NaN</td>\n",
       "      <td>NaN</td>\n",
       "      <td>Lidar Engineering Intern</td>\n",
       "      <td>Internship</td>\n",
       "      <td>https://boards.greenhouse.io/aurorainnovation/...</td>\n",
       "      <td>Internship</td>\n",
       "      <td>2024-03-08 00:18:38</td>\n",
       "    </tr>\n",
       "    <tr>\n",
       "      <th>380</th>\n",
       "      <td>NaN</td>\n",
       "      <td>NaN</td>\n",
       "      <td>NaN</td>\n",
       "      <td>Mechanical Engineering Intern</td>\n",
       "      <td>Internship</td>\n",
       "      <td>https://boards.greenhouse.io/aurorainnovation/...</td>\n",
       "      <td>Internship</td>\n",
       "      <td>2024-03-08 00:18:38</td>\n",
       "    </tr>\n",
       "  </tbody>\n",
       "</table>\n",
       "</div>"
      ],
      "text/plain": [
       "    Company Name  Number of Jobs Location  \\\n",
       "13           NaN             NaN      NaN   \n",
       "371          NaN             NaN      NaN   \n",
       "374          NaN             NaN      NaN   \n",
       "378          NaN             NaN      NaN   \n",
       "380          NaN             NaN      NaN   \n",
       "\n",
       "                               Job Title    Job Type  \\\n",
       "13             Summer Engineering Intern  Internship   \n",
       "371           Electrical Engineer Intern  Internship   \n",
       "374  Hardware Systems Engineering Intern  Internship   \n",
       "378             Lidar Engineering Intern  Internship   \n",
       "380        Mechanical Engineering Intern  Internship   \n",
       "\n",
       "                                               Job URL Experience Level  \\\n",
       "13   https://arena-club.breezy.hr/p/a4a2673d2812/apply       Internship   \n",
       "371  https://boards.greenhouse.io/aurorainnovation/...       Internship   \n",
       "374  https://boards.greenhouse.io/aurorainnovation/...       Internship   \n",
       "378  https://boards.greenhouse.io/aurorainnovation/...       Internship   \n",
       "380  https://boards.greenhouse.io/aurorainnovation/...       Internship   \n",
       "\n",
       "                   Date  \n",
       "13  2023-10-30 15:22:29  \n",
       "371 2024-03-08 00:18:38  \n",
       "374 2024-03-08 00:18:38  \n",
       "378 2024-03-08 00:18:38  \n",
       "380 2024-03-08 00:18:38  "
      ]
     },
     "execution_count": 13,
     "metadata": {},
     "output_type": "execute_result"
    }
   ],
   "source": [
    "df[df['Experience Level'] == 'Internship'].head()"
   ]
  },
  {
   "cell_type": "code",
   "execution_count": 14,
   "metadata": {},
   "outputs": [],
   "source": [
    "# df"
   ]
  },
  {
   "cell_type": "code",
   "execution_count": 15,
   "metadata": {},
   "outputs": [],
   "source": [
    "# df to csv\n",
    "df.to_csv('job_data_with_updated_dates.csv', index=False)"
   ]
  }
 ],
 "metadata": {
  "kernelspec": {
   "display_name": "captionKraftNov25",
   "language": "python",
   "name": "python3"
  },
  "language_info": {
   "codemirror_mode": {
    "name": "ipython",
    "version": 3
   },
   "file_extension": ".py",
   "mimetype": "text/x-python",
   "name": "python",
   "nbconvert_exporter": "python",
   "pygments_lexer": "ipython3",
   "version": "3.9.18"
  },
  "orig_nbformat": 4
 },
 "nbformat": 4,
 "nbformat_minor": 2
}
