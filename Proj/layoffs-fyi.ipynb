{
 "cells": [
  {
   "cell_type": "code",
   "execution_count": 6,
   "metadata": {},
   "outputs": [
    {
     "name": "stdout",
     "output_type": "stream",
     "text": [
      "Collecting pdfplumber\n",
      "  Downloading pdfplumber-0.11.0-py3-none-any.whl.metadata (39 kB)\n",
      "Collecting pdfminer.six==20231228 (from pdfplumber)\n",
      "  Downloading pdfminer.six-20231228-py3-none-any.whl.metadata (4.2 kB)\n",
      "Requirement already satisfied: Pillow>=9.1 in /Users/rajatsharma/anaconda3/envs/captionKraftNov25/lib/python3.9/site-packages (from pdfplumber) (10.2.0)\n",
      "Collecting pypdfium2>=4.18.0 (from pdfplumber)\n",
      "  Downloading pypdfium2-4.29.0-py3-none-macosx_11_0_arm64.whl.metadata (48 kB)\n",
      "\u001b[2K     \u001b[90m━━━━━━━━━━━━━━━━━━━━━━━━━━━━━━━━━━━━━━━━\u001b[0m \u001b[32m48.5/48.5 kB\u001b[0m \u001b[31m7.6 MB/s\u001b[0m eta \u001b[36m0:00:00\u001b[0m\n",
      "\u001b[?25hRequirement already satisfied: charset-normalizer>=2.0.0 in /Users/rajatsharma/anaconda3/envs/captionKraftNov25/lib/python3.9/site-packages (from pdfminer.six==20231228->pdfplumber) (2.0.4)\n",
      "Requirement already satisfied: cryptography>=36.0.0 in /Users/rajatsharma/anaconda3/envs/captionKraftNov25/lib/python3.9/site-packages (from pdfminer.six==20231228->pdfplumber) (41.0.3)\n",
      "Requirement already satisfied: cffi>=1.12 in /Users/rajatsharma/anaconda3/envs/captionKraftNov25/lib/python3.9/site-packages (from cryptography>=36.0.0->pdfminer.six==20231228->pdfplumber) (1.16.0)\n",
      "Requirement already satisfied: pycparser in /Users/rajatsharma/anaconda3/envs/captionKraftNov25/lib/python3.9/site-packages (from cffi>=1.12->cryptography>=36.0.0->pdfminer.six==20231228->pdfplumber) (2.21)\n",
      "Downloading pdfplumber-0.11.0-py3-none-any.whl (56 kB)\n",
      "\u001b[2K   \u001b[90m━━━━━━━━━━━━━━━━━━━━━━━━━━━━━━━━━━━━━━━━\u001b[0m \u001b[32m56.4/56.4 kB\u001b[0m \u001b[31m11.1 MB/s\u001b[0m eta \u001b[36m0:00:00\u001b[0m\n",
      "\u001b[?25hDownloading pdfminer.six-20231228-py3-none-any.whl (5.6 MB)\n",
      "\u001b[2K   \u001b[90m━━━━━━━━━━━━━━━━━━━━━━━━━━━━━━━━━━━━━━━━\u001b[0m \u001b[32m5.6/5.6 MB\u001b[0m \u001b[31m19.7 MB/s\u001b[0m eta \u001b[36m0:00:00\u001b[0ma \u001b[36m0:00:01\u001b[0m\n",
      "\u001b[?25hDownloading pypdfium2-4.29.0-py3-none-macosx_11_0_arm64.whl (2.7 MB)\n",
      "\u001b[2K   \u001b[90m━━━━━━━━━━━━━━━━━━━━━━━━━━━━━━━━━━━━━━━━\u001b[0m \u001b[32m2.7/2.7 MB\u001b[0m \u001b[31m26.8 MB/s\u001b[0m eta \u001b[36m0:00:00\u001b[0ma \u001b[36m0:00:01\u001b[0m\n",
      "\u001b[?25hInstalling collected packages: pypdfium2, pdfminer.six, pdfplumber\n",
      "Successfully installed pdfminer.six-20231228 pdfplumber-0.11.0 pypdfium2-4.29.0\n"
     ]
    }
   ],
   "source": [
    "!pip install pdfplumber"
   ]
  },
  {
   "cell_type": "code",
   "execution_count": 8,
   "metadata": {},
   "outputs": [],
   "source": [
    "import pdfplumber as pdf\n",
    "\n"
   ]
  },
  {
   "cell_type": "code",
   "execution_count": 12,
   "metadata": {},
   "outputs": [
    {
     "ename": "TypeError",
     "evalue": "sequence item 1: expected str instance, NoneType found",
     "output_type": "error",
     "traceback": [
      "\u001b[0;31m---------------------------------------------------------------------------\u001b[0m",
      "\u001b[0;31mTypeError\u001b[0m                                 Traceback (most recent call last)",
      "Cell \u001b[0;32mIn[12], line 14\u001b[0m\n\u001b[1;32m     11\u001b[0m                         csv_file\u001b[39m.\u001b[39mwrite(\u001b[39m'\u001b[39m\u001b[39m\\n\u001b[39;00m\u001b[39m'\u001b[39m)\n\u001b[1;32m     12\u001b[0m                     csv_file\u001b[39m.\u001b[39mwrite(\u001b[39m'\u001b[39m\u001b[39m\\n\u001b[39;00m\u001b[39m'\u001b[39m)\n\u001b[0;32m---> 14\u001b[0m extract_tables_from_pdf(\u001b[39m'\u001b[39;49m\u001b[39m/Users/rajatsharma/Documents/Semester 2/Data Mining/layoffs2.pdf\u001b[39;49m\u001b[39m'\u001b[39;49m, \u001b[39m'\u001b[39;49m\u001b[39mlayoffs2024.csv\u001b[39;49m\u001b[39m'\u001b[39;49m)\n",
      "Cell \u001b[0;32mIn[12], line 10\u001b[0m, in \u001b[0;36mextract_tables_from_pdf\u001b[0;34m(pdf_file_path, csv_file_path)\u001b[0m\n\u001b[1;32m      8\u001b[0m \u001b[39mfor\u001b[39;00m table \u001b[39min\u001b[39;00m tables:\n\u001b[1;32m      9\u001b[0m     \u001b[39mfor\u001b[39;00m row \u001b[39min\u001b[39;00m table:\n\u001b[0;32m---> 10\u001b[0m         csv_file\u001b[39m.\u001b[39mwrite(\u001b[39m'\u001b[39;49m\u001b[39m,\u001b[39;49m\u001b[39m'\u001b[39;49m\u001b[39m.\u001b[39;49mjoin(row))\n\u001b[1;32m     11\u001b[0m         csv_file\u001b[39m.\u001b[39mwrite(\u001b[39m'\u001b[39m\u001b[39m\\n\u001b[39;00m\u001b[39m'\u001b[39m)\n\u001b[1;32m     12\u001b[0m     csv_file\u001b[39m.\u001b[39mwrite(\u001b[39m'\u001b[39m\u001b[39m\\n\u001b[39;00m\u001b[39m'\u001b[39m)\n",
      "\u001b[0;31mTypeError\u001b[0m: sequence item 1: expected str instance, NoneType found"
     ]
    }
   ],
   "source": [
    "#extract tables from pdf and save all the tables in a single csv file with column names written on the first row just once\n",
    "\n",
    "def extract_tables_from_pdf(pdf_file_path, csv_file_path):\n",
    "    with pdf.open(pdf_file_path) as pdf_file:\n",
    "        with open(csv_file_path, 'w') as csv_file:\n",
    "            for page in pdf_file.pages:\n",
    "                tables = page.extract_tables()\n",
    "                for table in tables:\n",
    "                    for row in table:\n",
    "                        csv_file.write(','.join(row))\n",
    "                        csv_file.write('\\n')\n",
    "                    csv_file.write('\\n')\n",
    "\n",
    "extract_tables_from_pdf('/Users/rajatsharma/Documents/Semester 2/Data Mining/layoffs2.pdf', 'layoffs2024.csv')"
   ]
  },
  {
   "cell_type": "code",
   "execution_count": null,
   "metadata": {},
   "outputs": [],
   "source": []
  },
  {
   "cell_type": "code",
   "execution_count": 9,
   "metadata": {},
   "outputs": [
    {
     "ename": "KeyboardInterrupt",
     "evalue": "",
     "output_type": "error",
     "traceback": [
      "\u001b[0;31m---------------------------------------------------------------------------\u001b[0m",
      "\u001b[0;31mKeyboardInterrupt\u001b[0m                         Traceback (most recent call last)",
      "Cell \u001b[0;32mIn[9], line 12\u001b[0m\n\u001b[1;32m      9\u001b[0m                     \u001b[39mfor\u001b[39;00m row \u001b[39min\u001b[39;00m table:\n\u001b[1;32m     10\u001b[0m                         f\u001b[39m.\u001b[39mwrite(\u001b[39m\"\u001b[39m\u001b[39m,\u001b[39m\u001b[39m\"\u001b[39m\u001b[39m.\u001b[39mjoin(row) \u001b[39m+\u001b[39m \u001b[39m\"\u001b[39m\u001b[39m\\n\u001b[39;00m\u001b[39m\"\u001b[39m)\n\u001b[0;32m---> 12\u001b[0m extract_tables_from_pdf(\u001b[39m\"\u001b[39;49m\u001b[39m/Users/rajatsharma/Documents/Semester 2/Data Mining/layoffs2.pdf\u001b[39;49m\u001b[39m\"\u001b[39;49m, \u001b[39m\"\u001b[39;49m\u001b[39mlayoffs.csv\u001b[39;49m\u001b[39m\"\u001b[39;49m)\n",
      "Cell \u001b[0;32mIn[9], line 6\u001b[0m, in \u001b[0;36mextract_tables_from_pdf\u001b[0;34m(pdf_path, csv_path)\u001b[0m\n\u001b[1;32m      4\u001b[0m \u001b[39mwith\u001b[39;00m pdf\u001b[39m.\u001b[39mopen(pdf_path) \u001b[39mas\u001b[39;00m pdf_file:\n\u001b[1;32m      5\u001b[0m     \u001b[39mfor\u001b[39;00m i, page \u001b[39min\u001b[39;00m \u001b[39menumerate\u001b[39m(pdf_file\u001b[39m.\u001b[39mpages):\n\u001b[0;32m----> 6\u001b[0m         tables \u001b[39m=\u001b[39m page\u001b[39m.\u001b[39;49mextract_tables()\n\u001b[1;32m      7\u001b[0m         \u001b[39mfor\u001b[39;00m j, table \u001b[39min\u001b[39;00m \u001b[39menumerate\u001b[39m(tables):\n\u001b[1;32m      8\u001b[0m             \u001b[39mwith\u001b[39;00m \u001b[39mopen\u001b[39m(\u001b[39mf\u001b[39m\u001b[39m\"\u001b[39m\u001b[39m{\u001b[39;00mcsv_path\u001b[39m}\u001b[39;00m\u001b[39m_\u001b[39m\u001b[39m{\u001b[39;00mi\u001b[39m}\u001b[39;00m\u001b[39m_\u001b[39m\u001b[39m{\u001b[39;00mj\u001b[39m}\u001b[39;00m\u001b[39m.csv\u001b[39m\u001b[39m\"\u001b[39m, \u001b[39m\"\u001b[39m\u001b[39mw\u001b[39m\u001b[39m\"\u001b[39m) \u001b[39mas\u001b[39;00m f:\n",
      "File \u001b[0;32m~/anaconda3/envs/captionKraftNov25/lib/python3.9/site-packages/pdfplumber/page.py:461\u001b[0m, in \u001b[0;36mPage.extract_tables\u001b[0;34m(self, table_settings)\u001b[0m\n\u001b[1;32m    459\u001b[0m tset \u001b[39m=\u001b[39m TableSettings\u001b[39m.\u001b[39mresolve(table_settings)\n\u001b[1;32m    460\u001b[0m tables \u001b[39m=\u001b[39m \u001b[39mself\u001b[39m\u001b[39m.\u001b[39mfind_tables(tset)\n\u001b[0;32m--> 461\u001b[0m \u001b[39mreturn\u001b[39;00m [table\u001b[39m.\u001b[39mextract(\u001b[39m*\u001b[39m\u001b[39m*\u001b[39m(tset\u001b[39m.\u001b[39mtext_settings \u001b[39mor\u001b[39;00m {})) \u001b[39mfor\u001b[39;00m table \u001b[39min\u001b[39;00m tables]\n",
      "File \u001b[0;32m~/anaconda3/envs/captionKraftNov25/lib/python3.9/site-packages/pdfplumber/page.py:461\u001b[0m, in \u001b[0;36m<listcomp>\u001b[0;34m(.0)\u001b[0m\n\u001b[1;32m    459\u001b[0m tset \u001b[39m=\u001b[39m TableSettings\u001b[39m.\u001b[39mresolve(table_settings)\n\u001b[1;32m    460\u001b[0m tables \u001b[39m=\u001b[39m \u001b[39mself\u001b[39m\u001b[39m.\u001b[39mfind_tables(tset)\n\u001b[0;32m--> 461\u001b[0m \u001b[39mreturn\u001b[39;00m [table\u001b[39m.\u001b[39;49mextract(\u001b[39m*\u001b[39;49m\u001b[39m*\u001b[39;49m(tset\u001b[39m.\u001b[39;49mtext_settings \u001b[39mor\u001b[39;49;00m {})) \u001b[39mfor\u001b[39;00m table \u001b[39min\u001b[39;00m tables]\n",
      "File \u001b[0;32m~/anaconda3/envs/captionKraftNov25/lib/python3.9/site-packages/pdfplumber/table.py:420\u001b[0m, in \u001b[0;36mTable.extract\u001b[0;34m(self, **kwargs)\u001b[0m\n\u001b[1;32m    418\u001b[0m     cell_text \u001b[39m=\u001b[39m \u001b[39mNone\u001b[39;00m\n\u001b[1;32m    419\u001b[0m \u001b[39melse\u001b[39;00m:\n\u001b[0;32m--> 420\u001b[0m     cell_chars \u001b[39m=\u001b[39m [\n\u001b[1;32m    421\u001b[0m         char \u001b[39mfor\u001b[39;00m char \u001b[39min\u001b[39;00m row_chars \u001b[39mif\u001b[39;00m char_in_bbox(char, cell)\n\u001b[1;32m    422\u001b[0m     ]\n\u001b[1;32m    424\u001b[0m     \u001b[39mif\u001b[39;00m \u001b[39mlen\u001b[39m(cell_chars):\n\u001b[1;32m    425\u001b[0m         \u001b[39mif\u001b[39;00m \u001b[39m\"\u001b[39m\u001b[39mlayout\u001b[39m\u001b[39m\"\u001b[39m \u001b[39min\u001b[39;00m kwargs:\n",
      "File \u001b[0;32m~/anaconda3/envs/captionKraftNov25/lib/python3.9/site-packages/pdfplumber/table.py:421\u001b[0m, in \u001b[0;36m<listcomp>\u001b[0;34m(.0)\u001b[0m\n\u001b[1;32m    418\u001b[0m     cell_text \u001b[39m=\u001b[39m \u001b[39mNone\u001b[39;00m\n\u001b[1;32m    419\u001b[0m \u001b[39melse\u001b[39;00m:\n\u001b[1;32m    420\u001b[0m     cell_chars \u001b[39m=\u001b[39m [\n\u001b[0;32m--> 421\u001b[0m         char \u001b[39mfor\u001b[39;00m char \u001b[39min\u001b[39;00m row_chars \u001b[39mif\u001b[39;00m char_in_bbox(char, cell)\n\u001b[1;32m    422\u001b[0m     ]\n\u001b[1;32m    424\u001b[0m     \u001b[39mif\u001b[39;00m \u001b[39mlen\u001b[39m(cell_chars):\n\u001b[1;32m    425\u001b[0m         \u001b[39mif\u001b[39;00m \u001b[39m\"\u001b[39m\u001b[39mlayout\u001b[39m\u001b[39m\"\u001b[39m \u001b[39min\u001b[39;00m kwargs:\n",
      "File \u001b[0;32m~/anaconda3/envs/captionKraftNov25/lib/python3.9/site-packages/pdfplumber/table.py:405\u001b[0m, in \u001b[0;36mTable.extract.<locals>.char_in_bbox\u001b[0;34m(char, bbox)\u001b[0m\n\u001b[1;32m    404\u001b[0m \u001b[39mdef\u001b[39;00m \u001b[39mchar_in_bbox\u001b[39m(char: T_obj, bbox: T_bbox) \u001b[39m-\u001b[39m\u001b[39m>\u001b[39m \u001b[39mbool\u001b[39m:\n\u001b[0;32m--> 405\u001b[0m     v_mid \u001b[39m=\u001b[39m (char[\u001b[39m\"\u001b[39;49m\u001b[39mtop\u001b[39;49m\u001b[39m\"\u001b[39;49m] \u001b[39m+\u001b[39;49m char[\u001b[39m\"\u001b[39;49m\u001b[39mbottom\u001b[39;49m\u001b[39m\"\u001b[39;49m]) \u001b[39m/\u001b[39;49m \u001b[39m2\u001b[39;49m\n\u001b[1;32m    406\u001b[0m     h_mid \u001b[39m=\u001b[39m (char[\u001b[39m\"\u001b[39m\u001b[39mx0\u001b[39m\u001b[39m\"\u001b[39m] \u001b[39m+\u001b[39m char[\u001b[39m\"\u001b[39m\u001b[39mx1\u001b[39m\u001b[39m\"\u001b[39m]) \u001b[39m/\u001b[39m \u001b[39m2\u001b[39m\n\u001b[1;32m    407\u001b[0m     x0, top, x1, bottom \u001b[39m=\u001b[39m bbox\n",
      "\u001b[0;31mKeyboardInterrupt\u001b[0m: "
     ]
    }
   ],
   "source": [
    "#extract tables from pdf and save them as csv\n",
    "\n",
    "def extract_tables_from_pdf(pdf_path, csv_path):\n",
    "    with pdf.open(pdf_path) as pdf_file:\n",
    "        for i, page in enumerate(pdf_file.pages):\n",
    "            tables = page.extract_tables()\n",
    "            for j, table in enumerate(tables):\n",
    "                with open(f\"{csv_path}_{i}_{j}.csv\", \"w\") as f:\n",
    "                    for row in table:\n",
    "                        f.write(\",\".join(row) + \"\\n\")\n",
    "\n",
    "extract_tables_from_pdf(\"/Users/rajatsharma/Documents/Semester 2/Data Mining/layoffs2.pdf\", \"layoffs.csv\")"
   ]
  },
  {
   "cell_type": "code",
   "execution_count": 11,
   "metadata": {},
   "outputs": [],
   "source": [
    "#combine all csv files into one\n",
    "import os\n",
    "import glob\n",
    "\n",
    "def combine_csv_files(csv_path, combined_csv_path):\n",
    "    with open(combined_csv_path, \"w\") as f:\n",
    "        for csv_file in glob.glob(f\"{csv_path}*.csv\"):\n",
    "            with open(csv_file, \"r\") as f2:\n",
    "                f.write(f2.read())\n",
    "\n",
    "combine_csv_files(\"layoffs.csv_\", \"layoffs_combined.csv\")\n"
   ]
  },
  {
   "cell_type": "code",
   "execution_count": 13,
   "metadata": {},
   "outputs": [],
   "source": [
    "#remove rows from csv file that contatin a # symbol and also that are blank in the first column and save the cleaned csv file except the first row\n",
    "\n",
    "\n",
    "def remove_rows_from_csv(csv_path, cleaned_csv_path):\n",
    "    with open(csv_path, \"r\") as f:\n",
    "        with open(cleaned_csv_path, \"w\") as f2:\n",
    "            for line in f:\n",
    "                if \"#\" not in line and line.split(\",\")[0].strip() != \"\":\n",
    "                    f2.write(line)\n",
    "\n",
    "remove_rows_from_csv(\"layoffs2024.csv\", \"layoffs_cleaned.csv\")\n",
    "\n"
   ]
  }
 ],
 "metadata": {
  "kernelspec": {
   "display_name": "captionKraftNov25",
   "language": "python",
   "name": "python3"
  },
  "language_info": {
   "codemirror_mode": {
    "name": "ipython",
    "version": 3
   },
   "file_extension": ".py",
   "mimetype": "text/x-python",
   "name": "python",
   "nbconvert_exporter": "python",
   "pygments_lexer": "ipython3",
   "version": "3.9.18"
  },
  "orig_nbformat": 4
 },
 "nbformat": 4,
 "nbformat_minor": 2
}
