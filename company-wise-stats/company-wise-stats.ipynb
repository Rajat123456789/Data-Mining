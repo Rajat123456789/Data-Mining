{
 "cells": [
  {
   "cell_type": "code",
   "execution_count": 44,
   "metadata": {},
   "outputs": [
    {
     "name": "stdout",
     "output_type": "stream",
     "text": [
      "['Arcadia', 'Archive-Resale', 'Arc-Technologies', 'Arctic-Wolf', 'Arena-Club', 'Argo-AI', 'Argyle', 'Arine', 'Aritzia', 'Armorblox', 'Arrive-Logistics', 'ArsenalBio', 'Arta-Finance', 'Artemis', 'Asana', 'ASAPP', 'Ascend-io', 'Assembled', 'AssemblyAI', 'AssetWatch', 'Assurance-IQ', 'Assured', 'Astra', 'At-Bay', 'Athelas', 'A-Thinking-Ape', 'Atlan', 'Atlassian', 'AtoB', 'Atomic-VC', 'Atomwise', 'AttackIQ', 'Attest', 'Aucto', 'AuditBoard', 'Audius', 'Augmedix', 'Aurora', 'Aurora-Innovation', 'Aurora-Solar', 'Aurora-University', 'Auterion', 'Autograph', 'Avala-AI', 'Ava-Labs', 'AvantStay', 'Avenue', 'Aviatrix', 'Away', 'AWeber', 'Axiom-Zen', 'Axoni', 'B12', 'Babylon-Health', 'Badger-Meter', 'Bandwidth', 'Bankers-Healthcare-Group', 'BARK', 'Barrys', 'Baseten', 'Baton-Trucking', 'Beacon-Platform', 'Beam-Benefits', 'Beamery', 'Belvedere-Trading', 'Benchling', 'BenchSci', 'Benefitfocus', 'Benepass', 'Berkeley-Lights', 'BerlinRosen', 'Bestow', 'BetterCloud', 'Betterdotcom', 'Bettermode', 'BetterUp', 'betterworks', 'Beyond-Identity', 'Big-Health', 'Big-Time-Studios', 'BillionToOne', 'Bilt-Rewards', 'Binance', 'Binti', 'BioBot-Analytics', 'Bitcoin-Depot', 'Bitfury', 'BitGo', 'Bitquery', 'Bitwarden', 'Bixal', 'Black-Crow-AI', 'BlackLine', 'Blameless', 'Blend', 'Blink-UX', 'Blizzard-Entertainment', 'Blockchain', 'BlockFi', 'Blockstream', 'Bluebeam', 'Blue-Bottle-Coffee', 'Blue-Origin', 'Blue-River-Technology', 'Bluesky-Data', 'Bluevine', 'Bodo', 'Bolt', 'Bond-Vet', 'Boom-Supersonic', 'Boost-Insurance', 'bose', 'Boulevard', 'Bounteous', 'Box', 'Boxed', 'BPM', 'Bracebridge-Capital', 'Brain-Corp', 'brain-technologies', 'Brave', 'Breeze-Airways', 'Bridgewater-Associates', 'Bright-Edge', 'Brightflow-AI', 'Bright-Health', 'Brightline', 'Brightseed', 'brightwheel', 'Brigit', 'Brixmor-Property-Group', 'Broadway-Technology', 'Brooklinen', 'bklninvest', 'Brooks-Running', 'Bubble', 'Buf', 'Built-In', 'Built-Robotics', 'Businessolver', 'Business-Wire', 'Butterfly-Network', 'BuzzFeed', 'C3ai', 'Caffeine-TV', 'CAI', 'Caldera', 'Calendly', 'Calibrate', 'Calm', 'Cambly', 'Cameo', 'Canary-Tech', 'Candid-Health', 'Candy', 'Canva', 'Capital-One', 'Capsule', 'Caption-Health', 'Carbon', 'Carbon-Direct', 'Cardiologs', 'Cardlytics', 'Careem', 'Carrot-Fertility', 'Carta', 'Carta-Healthcare', 'castandcrew', 'Castiron', 'CB-Insights', 'Cents', 'Cerebral', 'Certik', 'Chainalysis', 'Chainlink', 'CZBiohub', 'Chapter', 'Character', 'ChargePoint', 'ChartHop', 'Check', 'Checkout.com', 'Checkr', 'Cherre', 'Chime', 'ChowNow', 'Chronicled', 'Chronosphere', 'Circle', 'CircleCI', 'Cirrus-Logic', 'Citizen', 'Cityblock', 'cLabs', 'ClassDojo', 'ClassPass', 'Clearbit', 'Clearco', 'Clearcover', 'Cleerly', 'Clerk', 'Clever', 'Clickup', 'Clio', 'Clockwise', 'Close', 'Cloudflare', 'CloudTrucks', 'Clubhouse', 'Clutter', 'Coalition', 'Coast', 'Coda', 'Code42', 'Coder', 'Cogito', 'Cognite', 'Coherus-BioSciences', 'CoinDesk', 'CoinList', 'Coin-Metrics', 'Collective-Health', 'Color', 'Column', 'Commercetools', 'Commonwealth-Fusion-Systems', 'Commsor', 'Conception', 'Concurrency', 'Confirm-HR', 'Confluent', 'Convoy', 'Copper-Banking', 'Core-Digital-Media', 'Corelight', 'CoreWeave', 'Cortex', 'Corvus-Insurance', 'Couchbase', 'Coupa-Software', 'Course-Hero', 'Coursera', 'Covariant', 'Cover-Genius', 'Cowbell-Cyber', 'TD-Cowen', 'Cprime', 'Craft', 'Crayon', 'Verified', 'Cred', 'Credible', 'Critical-Mass', 'Crocs', 'Crossbeam', 'Crossing-Minds', 'Crosswire', 'Crowdstrike', 'Cruise', 'Crusoe', 'Crux-Informatics', 'Crypto-com', 'Cube', 'Culdesac', 'Curaleaf', 'Curated', 'Curative', 'Curology', 'Current', 'Curve-Health', 'Custodia-Bank', 'Cyngyn', 'D2iQ', 'Dagger', 'Daily-Harvest', 'DailyPay', 'DapperLabs', 'data-ai', 'Databento', 'Databook', 'DataCamp', 'DataGrail', 'Dataminr', 'Datavant', 'Dathena', 'Dave', 'DAZN', 'Dealpath', 'Decide', 'Deepcell', 'deepgram', 'DeepMind', 'Degreed', 'Deliveroo', 'Demiurge-Studios', 'Descript', 'Deserve', 'Devoted-Health', 'Dexterity', 'Digit', 'DigitalOcean', 'Digital-Trends', 'Diligent-Robotics', 'Disco', 'Discord', 'Disney-Hotstar', 'Divvy-Homes', 'Docugami', 'DocuSign', 'Doma', 'Domeyard', 'Domino-Data-Lab', 'Domo', 'DoorDash', 'Dopple', 'Doppler', 'Dorian', 'DotDash-Meredith', 'Doximity', 'Doxo', 'Dragos', 'Drata', 'Dremio-Corporation', 'drivetime', 'DriveWealth', 'Drizly', 'DroneDeploy', 'Dropbox', 'DRW', 'Ducera-Partners', 'Dun-and-Bradstreet', 'Dune-Analytics', 'Dunzo', 'Duolingo', 'Dwolla', 'dYdX', 'Earnest', 'Earnin', 'EarnUp', 'EasyPost', 'Eco', 'Ecobee', 'EcoCart', 'Eden-Health', 'Edward-Daniels-Grp', 'edX', 'Egen', 'Ekimetrics', 'Eko', 'EH2', 'Elementary', 'ElementBiosciences', 'Elementus', 'EliseAI', 'Ellevation', 'Elodie-Games', 'Elwood-Technologies', 'Embark-Trucks', 'Embrace', 'Emerald-Cloud-Lab', 'Empower', 'Emsi', 'Enable', 'Encord', 'Energy-Recovery', 'Enigma', 'Enova', 'Entefy', 'Enthought', 'Enveda-Biosciences', 'Envoy', 'Epic-Games', 'Epirus', 'Epsilon3', 'Equip-Health', nan, 'E-Space', 'Ethena', 'Etsy', 'Even', 'Eventbrite', 'Everbridge', 'EveryRealm', 'Evidation-Health', 'Evisort', 'Evocalize', 'Exabeam', 'ExecOnline', 'Exiger', 'ExodusPoint', 'Exostellar', 'Expedia', 'Explo', 'Extreme-Networks', 'f5', 'Fabric-Genomics', 'Facet', 'Faire', 'Fairmarkit', 'FalconX', 'FamPay', 'Fanatics', 'FanDuel', 'Fanhouse', 'FarmWise', 'Fast-Radius', 'Fauna', 'Feather', 'Federato', 'FedML', 'Fernish', 'FetchRewards', 'Fictiv', 'Fiddler-AI', 'Fieldguide', 'Figma', 'Figure', 'Filebase', 'Filecoin-Foundation', 'Filevine', 'Finix', 'Finra', 'Fireblocks', 'Firstbase', 'FirstResonance', 'FiscalNote', 'Five9', 'Flatfile', 'Flatiron-Health', 'Flexe', 'Flexport', 'Flock-Freight', 'FlockSafety', 'Floqast', 'Flow-Life', 'Flowhub', 'Flowspace', 'Flow-Traders', 'Flywheel-Software', 'Flyx', 'Fnatic', 'Foodsmart', 'Forage', 'Formic', 'Formlabs', 'Forte', 'Forward', 'Found', 'Found-Energy', 'Foundry-ai', 'Foundry-Digital', 'Fountain', 'FourKites', 'Foursquare', 'Freedom-Financial-Network', 'Freenome', 'Frog', 'Front', 'FTX', 'Fueled', 'Full-Stack-Finance', 'FullStory', 'FutronicsCorp', 'Fyllo', 'FYPM', 'Gametime', 'Ganymede', 'Garda-Capital-Partners', 'Garner-Health', 'Gather-AI', 'Gather-Presence', 'Gatik-AI', 'Gauntlet-Networks', 'Gauss-Labs', 'Gecko-Robotics', 'Gem', 'Gemini', 'General-Assembly', 'Genesis-Thera', 'Geotab', 'Getty-Images', 'Gilead-Sciences', 'GitHub', 'GitLab', 'GiveCampus', 'Glance', 'Glassdoor', 'Glean', 'Glyphic-bio', 'Go1', 'GOAT-Group', 'GoDaddy', 'GoGuardian', 'Goldfinch', 'Gong.io', 'GoodRx', 'Gopuff', 'Gordian-Software', 'Gorgias', 'Gradient-Comfort', 'Grafana-Labs', 'GRAIL', 'Grailed', 'Grammarly', 'Grand-Rounds', 'Graphite-dev', 'Greenlight', 'Gretel', 'Greylock-Partners', 'GreyNoise', 'Gro-Intelligence', 'Grove-Collaborative', 'Guideline', 'Guidepoint', 'Guidewire', 'Gusto', 'HackerRank', 'Hadrian', 'Handshake', 'Hang', 'HAP-Capital', 'Happify-Health', 'HappyFresh', 'Harmony', 'Hatch-IT', 'Haven-Technologies', 'HaydenAI', 'Headout', 'Headway', 'Heal', 'healthatscale', 'Health-IQ', 'Health-Recovery-Solutions', 'HealthVerity', 'Heap', 'Heartbeat-Health', 'Heirloom', 'Helion-Energy', 'Helium', 'Hello-Fresh', 'Hermeus', 'Hewlett-Packard', 'Hex-tech', 'heycar', 'Highnote', 'Highspot', 'Hightouch', 'hims-&-hers', 'Hinge-Health', 'Hint-Inc', 'Hipcamp', 'Hi-RezStudios', 'Hiro-Systems', 'Hive', 'Holy-Grail', 'Homebase', 'Home-Chef', 'Homelight', 'Hometap', 'HomeX', 'Hopin', 'Hopper', 'Horizon-Blockchain-Games', 'Hotplate', 'Housecall-Pro', 'HQ-Digital', 'HqO', 'Huawei-Tech', 'HubSpot', 'Hudl', 'Hudson-River-Trading', 'Human-Interest', 'Humi', 'Hummingbird', 'Huntress', 'Hyperscience', 'HYPR', 'ibotta', 'Icertis', 'Illumio', 'Imbue', 'IMC-Trading', 'Immuta', 'Imperfect-Foods', 'Impossible-Foods', 'Imprint', 'Inari-Agriculture', 'Inclined-Tech', 'Incredible-Health', 'Indigov', 'Inflection-AI', 'InfluxData', 'Inscopix', 'Insitro', 'Inspire-Clean-Energy', 'Inspire11', 'Instabase', 'Instacart', 'Instrumentl', 'Integral-Ad-Science', 'Intel', 'IBKR', 'Intercom', 'Interfolio', 'Internet-Brands', 'Interos', 'Intersection', 'Intro', 'InVision', 'Invitae', 'Invoca', 'Inworld-AI', 'ION-Group', 'IonQ', 'iRobot', 'Ironclad', 'Iron-Fish', 'Isometric-Tech', 'Iterative-Health', 'Jackpocket', 'Jam-City', 'January', 'Jasper', 'Jerry', 'Jet-Support-Services', 'JITX', 'JobGet', 'Jopwell', 'Joy', 'Jump-Trading', 'JuniperPlatform', 'JuniperSquare', 'Jupiter-Intelligence', 'Just-Appraised', 'Justworks', 'JUUL-Labs', 'Kabam', 'Kalepa', 'Kalshi', 'Kandji', 'Kapwing', 'Karat', 'Karat-Financial', 'Kasisto', 'KAYAK', 'Kensho', 'Kentik', 'Ketch', 'Kevel', 'KeyBank', 'Khan-Academy', 'Kin-Insurance', 'Kinside', 'Kit-Check', 'Kitty-Hawk', 'Kitware', 'Kiva', 'KKR', 'Klaviyo', 'klue', 'Knoetic', 'KnowBe4', 'Koddi', 'Kodiak-Robotics', 'Kolena', 'Komodo-Health', 'Kong', 'Konrad-Group', 'Kraken', 'Kunai', 'Kustomer', 'Labelbox', 'Lacework', 'Laika', 'Landis', 'Lark-Health', 'Last-Energy', 'LatchBio', 'Later', 'LaunchDarkly', 'Layer3', 'LeafLink', 'League', 'LeanData', 'LeanTaaS', 'LEAP-Legal-Software', 'LeapYear', 'LedgerInvesting', 'Leidos', 'Lendbuzz', 'LendingTree', 'Lessonly', 'Lev', 'Lever', 'Levro', 'Life-Church', 'Lightning-Labs', 'Lilac-Solutions', 'Lilt', 'Lime', 'Linear', 'LinkedIn', 'LinkSquares', 'Linus-Health', 'Little-Otter', 'lob', 'Lockstep', 'LocusRobotics', 'Logikcull', 'Logitech', 'LogRocket', 'Loom', 'Loyal-Health', 'LPA-Design-Studios', 'LTK', 'Lucid', 'Lucid-Motors', 'LULA-Tech', 'Luma-AI', 'Luminai', 'Luminary-Cloud', 'Lumos', 'Lunchclub', 'Luxury-Presence', 'Lyft', 'Lyra-Health', 'mabl', 'MachinaLabs', 'Machinify', 'Madhive', 'Madison-Logic', 'MadKudu', 'Magical', 'Mailchimp', 'MaintainX', 'MakersPlace', 'Mammoth-Bio', 'Mantle', 'MapleFinance', 'Marcus-Millichap', 'Mark43', 'Markforged', 'Marqeta', 'Mashgin', 'Mason', 'Match-Group', 'Material-Security', 'MaticRobots', 'Matterport', 'Maven-Securities', 'May-Mobility', 'MBTA', 'Medable', 'Medely', 'Medidata-Solutions', 'Medium', 'Meero', 'Meilisearch', 'Memora-Health', 'Menlo-Security', 'Mento', 'Mercari', 'Mercedes-Benz', 'Mercury', 'Merge', 'Merit', 'MerlinLabs', 'MessageBird', 'Meta', 'Metadata', 'Metatheory', 'Meter', 'Methodfi', 'Metromile', 'Metropolis', 'Mezmo', 'Middesk', 'Midpoint', 'MindsDB', 'Minted', 'Minware', 'Miro', 'Mission-Cloud', 'Mission-Lane', 'Mixpanel', 'Modern-Age', 'Modern-Animal', 'ModernLoop', 'Modern-Treasury', 'MojoTech', 'Momentive', 'Momentus', 'Monad-Labs', 'MongoDB', 'Monte-Carlo-Data', 'Monzo', 'Moonpay', 'Morning-Brew', 'Mothership', 'Motional', 'Motive', 'Moveworks', 'Moxe-Health', 'Moxion-Power', 'Mozilla', 'MParticle', 'Mudflap', 'Multiply-Labs', 'Mural', 'Musixmatch-spa', 'Mutiny', 'MyFitnessPal', 'Mysten-Labs', 'Mythic', 'N3TWORK-Studios', 'Narmi', 'Nasdaq', 'Nash', 'Natera', 'National-Research-Group', 'NationBuilder', 'Nava-PBC', 'Navan', 'Nav', 'Nayya', 'Near-Protocol', 'Neeva', 'Neo-Cybernetica', 'Neon-Database', 'NerdWallet', 'Ness', 'Netflix', 'Netlify', 'Neuralink', 'Newfront-Insurance', 'New-Relic', 'NewRocket', 'Newsela', 'NexHealth', 'Nexla', 'Nextdoor', 'NextRoll', 'Niantic', 'NimbleRx', 'NinjaTrader', 'Ninja-Van', 'Nio', 'NoahMedical', 'Nobl9', 'Nomi-Health', 'Normalyze', 'Northspyre', 'Northwestern-Mutual', 'Notable', 'Notarize', 'Notion', 'Nova-Credit', 'Novetta', 'Nowsta', 'Numerade', 'Nuna', 'Nuro', 'Nutanix', 'NVIDIA', 'Nylas', 'ObserveInc', 'OptionsClearingCorporation', 'Ocient', 'Ockam', 'Ocrolus', 'Odeko', 'OJO-Labs', 'Okcoin', 'Okera', 'Okta', 'Old-Mission', 'Omada-Health', 'Omaze', 'One-Finance', 'OneLocal', 'One-Medical', 'OneSchema', 'OneSignal', 'OneStudyTeam', 'Onewheel', 'Onna', 'Ontra', 'Opal', 'Opaque-Systems', 'OpenAI', 'Opencare', 'Opendoor', 'OpenInvest', 'OpenPhone', 'OpenSea', 'Open-Store', 'OpenZeppelin', 'OppFi', 'Optimism', 'Optiver', 'Optoro', 'Orca-Bio', 'Orchard', 'Ordway', 'Orum', 'Osaro', 'Oscar-Health', 'Osmo', 'OSOM', 'Otter-ai', 'Otter-Waiver', 'Oura', 'Outliant', 'Outreach', 'Outschool', 'Outset-Medical', 'Ovocy', 'Owl-Labs', 'OwnBackup', 'OXIO', 'Oyster', 'Pachyderm', 'Paddle', 'PagerDuty', 'Palantir', 'Palo-Alto-Networks', 'Panorama-Education', 'Panther-Labs', 'Papa', 'Parafin', 'Parallel-Wireless', 'Parasol', 'Parkade', 'Patch', 'PathAI', 'Pathrise', 'Patientco', 'Patreon', 'Pave', 'Pax8', 'PayFit', 'PayIt', 'PayPal', 'PayScale', 'Paytm-Labs', 'PDT-Partners', 'Peloton', 'People.ai', 'Peptilogics', 'Perchwell', 'Percipient-ai', 'Perpay', 'Perpetua-Labs', 'Persona', 'Petal', 'Petuum', nan, 'Physna', 'PicCollage', 'Pickle-Robot', 'Picogrid', 'Pie-Insurance', 'Pilot', 'Pindrop', 'Pinterest', 'PisonTech', 'Pitch', 'Pixar', 'Place-Exchange', 'Plaid', 'Platform-Science', 'PlayStation-Global', 'Plotly', 'Plume', 'Pocket-Gems', 'Podium', 'Point', 'Point72', 'Point-B', 'PointClickCare', 'PolicyGenius', 'Pollen-Mobile', 'Polly', 'Poshmark', 'Postera', 'Postman', 'Postscript', 'Potion', 'Power-Finance', 'Prelim', 'Premise', 'Preset', 'Prime-Medicine', 'Primer-AI', 'Prisma-Data', 'Privitar', 'Productiv', 'Project-Ronin', 'proofpoint', 'Propel', 'Protocol-Labs', 'Prove', 'Pysonix', 'Public', 'pulseData', 'Pulumi', 'Pure-Storage', 'Pushpay', 'Pyka', 'PylonLending', 'Pythian', 'Qualcomm', 'Qualtrics', 'Quantcast', 'Quantum-Metric', 'Quartzy', 'Quest-Analytics', 'QuickNode', 'Quidel', 'Qumulo', 'Quora', 'Quotient-Tech', 'Qventus', 'qvest', 'r2c', 'Ramp', 'RAPP', 'Rarible', 'Ready-Net', 'Reality-Defender', 'Recess', 'ReCharge-Payments', 'Recora', 'Recorded-Future', 'Reddit', 'Redesign-Health', 'Red-Ventures', 'Redwood-Materials', 'Reforge', 'Refuel-AI', 'Regal-io', 'Regard', 'Reify-Health', 'Relativity', 'RelayPro', 'Relay-Robotics', 'Relay-Thera', 'Reliable-Robotics', 'Remitly', 'RemNote', 'Render', 'Rent-the-Runway', 'Reonomy', 'Replit', 'Retain-ai', 'Retool', 'RevenueCat', 'Revolut', 'Rhombus-Systems', 'Rhombus-Power', 'Ribbon-Health', 'Ridecell', 'Ridgeline', 'Rigetti', 'Riot-Games', 'Ripcord', 'Ripple', 'Rippling', 'Riverside-Research', 'Rivian', 'Ro', 'Robinhood', 'Roblox', 'Roboflow', 'RocketMoney', 'Rockset', 'Roku', 'Roofr', 'Routable', 'RTI', 'Rue-Gilt-Groupe', 'Rundoo', 'Rutter', 'RVO-Health', 'SageSure-Insurance-Managers', 'Salesforce', 'SambaNova-Systems', 'Samsara', 'Samsung', 'Samsung-Research-America', 'Sana-benefits', 'Sanctuary-AI', 'Santander', 'Sardine', 'Scale-AI', 'Scality', 'Schoolhouse', 'ScienceLogic', 'Scoop', 'Scratch-Fi', 'Scribd', 'SEAKR-Engineering', 'Seamless-AI', 'Search-for-Common-Ground', 'Searchlight', 'SeatGeek', 'Second-Order-Effects', 'Securitize', 'SecurityScorecard', 'SeekOut', 'Seesaw', 'Seismic', 'Self-Financial', 'sensata-tech', 'SentinelOne', 'Sentry', 'Serve-Robotics', 'ServiceNow', 'Seso', 'Seven-Eight-Capital', 'Sezzle', 'Shamrock-Trading', 'Sharethrough', 'SharkNinja', 'Shef', 'Shield-AI', 'Shift', 'ShipBob', 'Shippo', 'shopee', 'Shopmonkey', 'Shutterfly', 'Side', 'Sidewalk-Labs', 'Sift', 'Sigma-Computing', 'Signal', 'SigOpt', 'Silicon-Laboratories', 'SimbeRobotics', 'Simplify', 'SimpliSafe', 'SimplyInsured', 'Simpplr', 'SingleStore', 'Sisu', 'Skilljar', 'Skupos', 'Skydio', 'Skyryse', 'Skyscanner', 'Slack', 'Sleuth', 'Slickdeals', 'Smarking', 'Smart-AdServer', 'SmartAsset', 'Smartcar', 'SmarterTravel', 'SmartRent', 'SmartSense', 'Smartsheet', 'Snackpass', 'Snap', 'Snorkel-AI', 'Social-Native', 'Socure', 'SoFi', 'Softrams', 'Solana', 'Solana-Foundation', 'Solidigm', 'Solv', 'Sona-Labs', 'Sonatype', 'SonderMind', 'Sony-Interactive-Entertainment-PlayStation', 'Sony-Music', 'Sourcegraph', 'SpaceX', 'Span', 'Speak', 'Speakeasy', 'Spendesk', 'Sphere', 'Splice', 'Splunk', 'Spotify', 'Spotnana', 'SpotOn', 'Spreetail', 'Springboard', 'Spring-Health', 'Sprinklr', 'Squarespace', 'Stackline', 'Stack-Sports', 'Stairwell', 'Standard-AI', 'Starburst-data', 'Starlight', 'StarTree', 'Stash', 'Status', 'Stella-&-Dot', 'StellarDevFdn', 'Stellar-Health', 'Stem-Dis', 'StockX', 'Storable', 'STORD', 'Strava', 'Streamlit', 'StreamSets', 'Stripe', 'StrongArm-Tech', 'StrongDM', 'Structure-Fi', 'Stryker', 'StubHub', 'studydotcom', 'Stytch', 'Submittable', 'Subspace-Labs', 'Sumo-Logic', 'Sunshine', 'Supabase', 'Super', 'Superblocks', 'Superlocal', 'Supernal', 'Sure-App', 'Swoop', 'SWORD-Health', 'Sym', 'symbotic', 'Symplicity', 'Synack', 'Synapse-Fi', 'Syndicate', 'Synthego', 'System1', 'SZNS', 'TabaPay', 'Taboola', 'Tackle-io', 'Tactic', 'Tailscale', 'Tailwind', 'Talend', 'Tally', 'Talos', 'Tamr', 'Tanium', 'Tapad', 'Tapcart', 'Taplytics', 'Taskrabbit', 'Tatari', 'Tata-UniStore-Limited', 'Tau-Motors', 'Teachable', 'TeachFX', 'Technergetics', 'Techstars', 'Tecovas', 'Tecton', 'Tekion', 'Teleo', 'Teleport', 'TeleTracking', 'Teller', 'Tempus-Ex', 'Tencent', 'Tendo', 'Tenstorrent', 'Tessian', 'TetraScience', 'Textio', 'Text-IQ', 'The-Athletic-Media-Company', 'The-Block', 'The-Boring-Company', 'TheBrowserCompany', 'The-Climate-Corporation', 'The-Engine', 'The-Farmers-Dog', 'The-Hub-Project', 'The-Meet-Group', 'The-New-York-Times', 'The-Nudge', 'TheoremLP', 'TheoremOne', 'The-Voleon-Group', 'Thoughtful-AI', 'ThoughtSpot', 'Thrasio', 'Threekit', 'Thunder-SF', 'Thunkable', 'Tifin', 'TigerGraph', 'Tinuiti', 'Titan', 'Toast', 'Tombras', 'Tomorrow-Health', 'Tonal', 'Tonic', 'TopHat', 'Torc-Robotics', 'Tower-Research-Capital', 'Toyota-Research-Institute', 'Traba', 'Trackonomy', 'Tradeblock', 'Transcarent', 'Transcend', 'Transfix', 'Transfr', 'TransMarket-Group', 'Tray-io', 'Trellis-Tech', 'Tremendous', 'TrialSpark', 'TripleLift', 'TRM-Labs', 't-rowe-price', 'TruckSmarter', 'Truepill', 'TruEra', 'Truveta', 'Tuft-&-Needle', 'Turing-AI', 'Turnstile', 'Turo', 'TuSimple', 'TVision-Insights', 'Twilio', 'Twitch', 'Udacity', 'Udemy', 'UDisc', 'UiPath', 'Uncountable', 'Uniphore', 'Unison-Home', 'Uniswap', 'Unite-Us', 'Unity', 'Universal-Music-Group', 'UnlearnAI', 'Unqork', 'UpBound', 'UpCodes', 'Upgrade', 'UpGuard', 'Upkeep', 'Uplift', 'Upside', 'Upstart', 'Upstox', 'Uptake', 'Up&Up', 'UrbanStems', 'Useful', 'UtopiaLabs', 'Vail-Systems', 'Validere', 'Valkyrie-Trading', 'Valon', 'Vana', 'Vanta', 'Varda-Space', 'Vatic-Investments', 'Vectra', 'Vee', 'Veev', 'Veeva-Systems', 'Veho', 'Vendr', 'Vercel', 'Verdant-Robotics', 'Verge-Genomics', 'VergeSense', 'Verkada', 'Versana', 'Vestmark', 'Vetted', 'Vevo', 'Via', 'Vial', 'Viam', 'Viant', 'VideaHealth', 'Vidyard', 'View', 'Vimeo', 'Virtu-Financial', 'Visa', 'Vise', 'Visier', 'Vitally', 'Viz-ai', 'Volta-Charging', 'Voltron-Data', 'Voltus', 'Vontive', 'Vori', 'Vouched', 'Vouch-Insurance', 'Vowel', 'Voxel-AI', 'VSCO', 'WalkMe', 'Walmart', 'Walnut', 'Waltz-Health', 'Warby-Parker', 'Warp', 'Watershed', 'Wattpad', 'WaveFinancial', 'Wayfair', 'Waymo', 'Waystar', 'Wealthfront', 'Webflow', 'WebFX', 'Weee!', 'Wefunder', 'Weight-&-Biases', 'Well', 'Wellframe', 'Wellmark', 'WellSaidLabs', 'WellSky', 'WePay', 'WeRide', 'Western-Digital', 'West-Monroe', 'WeWork', 'WhatNot', 'Wholesail', 'Whoop', 'Wildtype', 'WillowTree', 'Windfall-Data', 'Wingtra-AG', 'Wise', 'Wish', 'wisk-aero', 'Wispr-AI', 'Wistia', 'Wiz', 'Wizards-of-the-Coast', 'Woflow', 'Wonderschool', 'Wonolo', 'Workera', 'WorkFusion', 'WorkRamp', 'Workrise', 'Workstep', 'Workstream', 'Workwhile', 'Worldcoin', 'Woven-Planet', 'Xage-Security', 'Xapo-Bank', 'Xealth', 'Xometry', 'Xylem', 'Yext', 'Yodlee', 'Youpi', 'YugaByte', 'Zanbato', 'Zapier', 'Zenefits', 'Zerion', 'Zeta', 'Zignal-Labs', 'Zip', 'Zip-co', 'Zippin', 'ZipRecruiter', 'ZoomInfo', 'Zoox', 'Zora', 'Zotec-Partners', 'Zscaler', 'Zum']\n",
      "1493\n"
     ]
    }
   ],
   "source": [
    "import requests\n",
    "import pandas as pd\n",
    "import os\n",
    "import csv\n",
    "import json\n",
    "\n",
    "\n",
    "df = pd.read_csv('/Users/rajatsharma/Documents/Semester 2/Data Mining/Proj/simplify_all_jobs.csv')\n",
    "\n",
    "company_slugs = []\n",
    "\n",
    "for index,row in df.iterrows():\n",
    "    company_slugs.append(row['url_safe_slug'])\n",
    "\n",
    "print(company_slugs)\n",
    "print(len(company_slugs))\n"
   ]
  },
  {
   "cell_type": "code",
   "execution_count": 45,
   "metadata": {},
   "outputs": [],
   "source": [
    "headers = {\n",
    "    'accept': '*/*',\n",
    "    'accept-language': 'en-US,en;q=0.9',\n",
    "    'baggage': 'sentry-environment=production,sentry-release=135f94f1117d58c2aa6ce6bec71977e7c9125490,sentry-public_key=fef7da0cdecf44b9bf7f7dd2a7b445db,sentry-trace_id=3c115a4181c14c7e830b1bfe13cddf1f',\n",
    "    'dnt': '1',\n",
    "    'referer': 'https://simplify.jobs/c/',\n",
    "    'sec-ch-ua': '\"Google Chrome\";v=\"123\", \"Not:A-Brand\";v=\"8\", \"Chromium\";v=\"123\"',\n",
    "    'sec-ch-ua-mobile': '?0',\n",
    "    'sec-ch-ua-platform': '\"macOS\"',\n",
    "    'sec-fetch-dest': 'empty',\n",
    "    'sec-fetch-mode': 'cors',\n",
    "    'sec-fetch-site': 'same-origin',\n",
    "    'sentry-trace': '3c115a4181c14c7e830b1bfe13cddf1f-84f763c1086d08c6',\n",
    "    'user-agent': 'Mozilla/5.0 (Macintosh; Intel Mac OS X 10_15_7) AppleWebKit/537.36 (KHTML, like Gecko) Chrome/123.0.0.0 Safari/537.36',\n",
    "    'x-nextjs-data': '1',\n",
    "}"
   ]
  },
  {
   "cell_type": "code",
   "execution_count": 46,
   "metadata": {},
   "outputs": [],
   "source": [
    "folder_path = 'companyStats'\n",
    "folder_path_json = 'companyStatsJson'\n",
    "os.makedirs(folder_path, exist_ok=True)"
   ]
  },
  {
   "cell_type": "code",
   "execution_count": 50,
   "metadata": {},
   "outputs": [
    {
     "name": "stdout",
     "output_type": "stream",
     "text": [
      "File does not exist or is empty: companyStats/Aucto.csv\n",
      "File does not exist or is empty: companyStats/Aurora.csv\n",
      "File does not exist or is empty: companyStats/Disney-Hotstar.csv\n",
      "An error occurred with slug nan: 'pageProps'\n",
      "File does not exist or is empty: companyStats/Fanhouse.csv\n",
      "File does not exist or is empty: companyStats/Fireblocks.csv\n",
      "File does not exist or is empty: companyStats/HappyFresh.csv\n",
      "File does not exist or is empty: companyStats/Layer3.csv\n",
      "File does not exist or is empty: companyStats/LinkedIn.csv\n",
      "File does not exist or is empty: companyStats/Mozilla.csv\n",
      "File does not exist or is empty: companyStats/Ovocy.csv\n",
      "An error occurred with slug nan: 'pageProps'\n",
      "File does not exist or is empty: companyStats/Reonomy.csv\n",
      "File does not exist or is empty: companyStats/shopee.csv\n",
      "File does not exist or is empty: companyStats/Sony-Interactive-Entertainment-PlayStation.csv\n",
      "File does not exist or is empty: companyStats/Stella-&-Dot.csv\n",
      "File does not exist or is empty: companyStats/Superlocal.csv\n"
     ]
    }
   ],
   "source": [
    "import os\n",
    "import requests\n",
    "import csv\n",
    "import pandas as pd\n",
    "import json\n",
    "\n",
    "\n",
    "for slug in company_slugs:\n",
    "    try:\n",
    "        slug_str = str(slug)\n",
    "        params = {'slug': slug_str}\n",
    "        url = f'https://simplify.jobs/_next/data/H_MYiq7N0Y-IbBiLNasg0/c/{slug_str}.json'\n",
    "        headers['referer'] = 'https://simplify.jobs/c/' + slug_str\n",
    "\n",
    "        response = requests.get(url, params=params, headers=headers)\n",
    "        output = response.json()['pageProps']['company']['metrics']\n",
    "\n",
    "        file_name = f'{folder_path}/{slug_str}.csv'\n",
    "\n",
    "        with open(file_name, 'w', newline='') as file:\n",
    "            csvwriter = csv.writer(file)\n",
    "            header_written = False\n",
    "            for i in output:\n",
    "                if not header_written:\n",
    "                    csvwriter.writerow(['metric', 'metric_value', 'timestamp', 'company_name'])\n",
    "                    header_written = True\n",
    "                csvwriter.writerow([i['metric'], i['metric_value'], i['timestamp'], slug_str])\n",
    "\n",
    "        if os.path.exists(file_name) and os.stat(file_name).st_size > 0:\n",
    "            df = pd.read_csv(file_name)\n",
    "            df = df.sort_values(by=['metric'])\n",
    "            df.to_csv(file_name, index=False)\n",
    "        else:\n",
    "            print(f\"File does not exist or is empty: {file_name}\")\n",
    "            continue  \n",
    "\n",
    "        if not df.empty:\n",
    "            data_dict = {}\n",
    "            for index, row in df.iterrows():\n",
    "                key = row['metric']\n",
    "                if key not in data_dict:\n",
    "                    data_dict[key] = []\n",
    "                data_dict[key].append((row['timestamp'], row['metric_value']))\n",
    "\n",
    "            for key in data_dict:\n",
    "                data_dict[key].sort(key=lambda x: x[0])\n",
    "\n",
    "            json_file_name = f'{folder_path_json}/{slug_str}.json'\n",
    "            with open(json_file_name, 'w') as file:\n",
    "                json.dump(data_dict, file, indent=4)\n",
    "\n",
    "    except requests.exceptions.RequestException as e:\n",
    "        print(f\"Request error for {slug_str}: {e}\")\n",
    "    except pd.errors.EmptyDataError:\n",
    "        print(f\"No data to process in {file_name}\")\n",
    "    except Exception as e:\n",
    "        print(f\"An error occurred with slug {slug_str}: {e}\")\n"
   ]
  }
 ],
 "metadata": {
  "kernelspec": {
   "display_name": "captionKraftNov25",
   "language": "python",
   "name": "python3"
  },
  "language_info": {
   "codemirror_mode": {
    "name": "ipython",
    "version": 3
   },
   "file_extension": ".py",
   "mimetype": "text/x-python",
   "name": "python",
   "nbconvert_exporter": "python",
   "pygments_lexer": "ipython3",
   "version": "3.9.18"
  },
  "orig_nbformat": 4
 },
 "nbformat": 4,
 "nbformat_minor": 2
}
