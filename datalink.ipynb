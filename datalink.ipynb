{
 "cells": [
  {
   "cell_type": "code",
   "execution_count": null,
   "metadata": {},
   "outputs": [],
   "source": [
    "curl --location --request POST 'https://us-east-2.aws.data.mongodb-api.com/app/data-fmglhjk/endpoint/data/v1/action/findOne' \\\n",
    "--header 'Content-Type: application/json' \\\n",
    "--header 'Access-Control-Request-Headers: *' \\\n",
    "--header 'api-key: 8I3TcXdkKf1ZS8c8rAnxG0miFZIsaSB0GbRs7HqyfpPRfV9WmsZEbp6XSdc47bKW' \\\n",
    "--data-raw '{\n",
    "    \"collection\":\"USCIS-total-h1bs\",\n",
    "    \"database\":\"h1b-salary-data-combined\",\n",
    "    \"dataSource\":\"Cluster0\",\n",
    "    \"projection\": {\"_id\": 1}\n",
    "}'\n"
   ]
  }
 ],
 "metadata": {
  "kernelspec": {
   "display_name": "captionKraftNov25",
   "language": "python",
   "name": "python3"
  },
  "language_info": {
   "name": "python",
   "version": "3.9.18"
  },
  "orig_nbformat": 4
 },
 "nbformat": 4,
 "nbformat_minor": 2
}
