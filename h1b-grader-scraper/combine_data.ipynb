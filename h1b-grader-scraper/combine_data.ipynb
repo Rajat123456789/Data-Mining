{
 "cells": [
  {
   "cell_type": "code",
   "execution_count": 4,
   "metadata": {},
   "outputs": [
    {
     "name": "stdout",
     "output_type": "stream",
     "text": [
      "Combined CSV saved as combined.csv\n"
     ]
    }
   ],
   "source": [
    "#combine the csvs into one from the path given and save it to the output path\n",
    "\n",
    "import os\n",
    "import pandas as pd\n",
    "\n",
    "directory_path = '/Users/rajatsharma/Documents/Semester 2/Data Mining/h1b-grader-scraper/company-wise-job-wages'\n",
    "\n",
    "# List all CSV files in the directory\n",
    "csv_files = [f for f in os.listdir(directory_path) if f.endswith('.csv')]\n",
    "\n",
    "# Read and combine all CSV files\n",
    "combined_csv = pd.concat([pd.read_csv(os.path.join(directory_path, f)) for f in csv_files])\n",
    "\n",
    "# Path to save the combined CSV file\n",
    "output_path = 'combined.csv'\n",
    "\n",
    "# Save the combined CSV to a file\n",
    "combined_csv.to_csv(output_path, index=False)\n",
    "\n",
    "print(f\"Combined CSV saved as {output_path}\")\n"
   ]
  },
  {
   "cell_type": "code",
   "execution_count": 5,
   "metadata": {},
   "outputs": [],
   "source": [
    "df = pd.read_csv('combined.csv')"
   ]
  },
  {
   "cell_type": "code",
   "execution_count": 8,
   "metadata": {},
   "outputs": [],
   "source": [
    "\n",
    "companies = df['Company Name'].unique()\n",
    "\n"
   ]
  },
  {
   "cell_type": "code",
   "execution_count": 9,
   "metadata": {},
   "outputs": [
    {
     "data": {
      "text/plain": [
       "4084"
      ]
     },
     "execution_count": 9,
     "metadata": {},
     "output_type": "execute_result"
    }
   ],
   "source": [
    "len(companies)"
   ]
  }
 ],
 "metadata": {
  "kernelspec": {
   "display_name": "captionKraftNov25",
   "language": "python",
   "name": "python3"
  },
  "language_info": {
   "codemirror_mode": {
    "name": "ipython",
    "version": 3
   },
   "file_extension": ".py",
   "mimetype": "text/x-python",
   "name": "python",
   "nbconvert_exporter": "python",
   "pygments_lexer": "ipython3",
   "version": "3.9.18"
  },
  "orig_nbformat": 4
 },
 "nbformat": 4,
 "nbformat_minor": 2
}
